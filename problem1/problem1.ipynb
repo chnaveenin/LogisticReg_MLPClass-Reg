{
 "cells": [
  {
   "cell_type": "markdown",
   "metadata": {},
   "source": [
    "### Task 1.1 Dataset Analysis and Preprocessing"
   ]
  },
  {
   "cell_type": "code",
   "execution_count": 2,
   "metadata": {},
   "outputs": [],
   "source": [
    "import pandas as pd\n",
    "import numpy as np\n",
    "import matplotlib.pyplot as plt\n",
    "from sklearn.model_selection import train_test_split\n",
    "from sklearn.metrics import classification_report\n",
    "from sklearn.preprocessing import StandardScaler\n",
    "from sklearn.preprocessing import LabelEncoder\n",
    "from sklearn.impute import SimpleImputer"
   ]
  },
  {
   "cell_type": "markdown",
   "metadata": {},
   "source": [
    "#### 1.1.1 Dataset Analysis"
   ]
  },
  {
   "cell_type": "code",
   "execution_count": 8,
   "metadata": {},
   "outputs": [
    {
     "data": {
      "text/html": [
       "<div>\n",
       "<style scoped>\n",
       "    .dataframe tbody tr th:only-of-type {\n",
       "        vertical-align: middle;\n",
       "    }\n",
       "\n",
       "    .dataframe tbody tr th {\n",
       "        vertical-align: top;\n",
       "    }\n",
       "\n",
       "    .dataframe thead th {\n",
       "        text-align: right;\n",
       "    }\n",
       "</style>\n",
       "<table border=\"1\" class=\"dataframe\">\n",
       "  <thead>\n",
       "    <tr style=\"text-align: right;\">\n",
       "      <th></th>\n",
       "      <th>mean</th>\n",
       "      <th>std</th>\n",
       "      <th>min</th>\n",
       "      <th>max</th>\n",
       "    </tr>\n",
       "  </thead>\n",
       "  <tbody>\n",
       "    <tr>\n",
       "      <th>fixed acidity</th>\n",
       "      <td>8.311111</td>\n",
       "      <td>1.747595</td>\n",
       "      <td>4.60000</td>\n",
       "      <td>15.90000</td>\n",
       "    </tr>\n",
       "    <tr>\n",
       "      <th>volatile acidity</th>\n",
       "      <td>0.531339</td>\n",
       "      <td>0.179633</td>\n",
       "      <td>0.12000</td>\n",
       "      <td>1.58000</td>\n",
       "    </tr>\n",
       "    <tr>\n",
       "      <th>citric acid</th>\n",
       "      <td>0.268364</td>\n",
       "      <td>0.196686</td>\n",
       "      <td>0.00000</td>\n",
       "      <td>1.00000</td>\n",
       "    </tr>\n",
       "    <tr>\n",
       "      <th>residual sugar</th>\n",
       "      <td>2.532152</td>\n",
       "      <td>1.355917</td>\n",
       "      <td>0.90000</td>\n",
       "      <td>15.50000</td>\n",
       "    </tr>\n",
       "    <tr>\n",
       "      <th>chlorides</th>\n",
       "      <td>0.086933</td>\n",
       "      <td>0.047267</td>\n",
       "      <td>0.01200</td>\n",
       "      <td>0.61100</td>\n",
       "    </tr>\n",
       "    <tr>\n",
       "      <th>free sulfur dioxide</th>\n",
       "      <td>15.615486</td>\n",
       "      <td>10.250486</td>\n",
       "      <td>1.00000</td>\n",
       "      <td>68.00000</td>\n",
       "    </tr>\n",
       "    <tr>\n",
       "      <th>total sulfur dioxide</th>\n",
       "      <td>45.914698</td>\n",
       "      <td>32.782130</td>\n",
       "      <td>6.00000</td>\n",
       "      <td>289.00000</td>\n",
       "    </tr>\n",
       "    <tr>\n",
       "      <th>density</th>\n",
       "      <td>0.996730</td>\n",
       "      <td>0.001925</td>\n",
       "      <td>0.99007</td>\n",
       "      <td>1.00369</td>\n",
       "    </tr>\n",
       "    <tr>\n",
       "      <th>pH</th>\n",
       "      <td>3.311015</td>\n",
       "      <td>0.156664</td>\n",
       "      <td>2.74000</td>\n",
       "      <td>4.01000</td>\n",
       "    </tr>\n",
       "    <tr>\n",
       "      <th>sulphates</th>\n",
       "      <td>0.657708</td>\n",
       "      <td>0.170399</td>\n",
       "      <td>0.33000</td>\n",
       "      <td>2.00000</td>\n",
       "    </tr>\n",
       "    <tr>\n",
       "      <th>alcohol</th>\n",
       "      <td>10.442111</td>\n",
       "      <td>1.082196</td>\n",
       "      <td>8.40000</td>\n",
       "      <td>14.90000</td>\n",
       "    </tr>\n",
       "    <tr>\n",
       "      <th>quality</th>\n",
       "      <td>5.657043</td>\n",
       "      <td>0.805824</td>\n",
       "      <td>3.00000</td>\n",
       "      <td>8.00000</td>\n",
       "    </tr>\n",
       "  </tbody>\n",
       "</table>\n",
       "</div>"
      ],
      "text/plain": [
       "                           mean        std      min        max\n",
       "fixed acidity          8.311111   1.747595  4.60000   15.90000\n",
       "volatile acidity       0.531339   0.179633  0.12000    1.58000\n",
       "citric acid            0.268364   0.196686  0.00000    1.00000\n",
       "residual sugar         2.532152   1.355917  0.90000   15.50000\n",
       "chlorides              0.086933   0.047267  0.01200    0.61100\n",
       "free sulfur dioxide   15.615486  10.250486  1.00000   68.00000\n",
       "total sulfur dioxide  45.914698  32.782130  6.00000  289.00000\n",
       "density                0.996730   0.001925  0.99007    1.00369\n",
       "pH                     3.311015   0.156664  2.74000    4.01000\n",
       "sulphates              0.657708   0.170399  0.33000    2.00000\n",
       "alcohol               10.442111   1.082196  8.40000   14.90000\n",
       "quality                5.657043   0.805824  3.00000    8.00000"
      ]
     },
     "execution_count": 8,
     "metadata": {},
     "output_type": "execute_result"
    }
   ],
   "source": [
    "# Create a DataFrame\n",
    "df = pd.read_csv('WineQT.csv')\n",
    "df = df.drop(columns=['Id'])\n",
    "\n",
    "# Describe the dataset\n",
    "description = {\n",
    "  'mean': df.mean(),\n",
    "  'std': df.std(),\n",
    "  'min': df.min(),\n",
    "  'max': df.max()\n",
    "}\n",
    "\n",
    "description = pd.DataFrame(description)\n",
    "description"
   ]
  },
  {
   "cell_type": "markdown",
   "metadata": {},
   "source": [
    "#### 1.1.2 Plot showing distribution of various labels"
   ]
  },
  {
   "cell_type": "code",
   "execution_count": 42,
   "metadata": {},
   "outputs": [
    {
     "data": {
      "image/png": "[encoded data removed]",
      "text/plain": [
       "<Figure size 640x480 with 1 Axes>"
      ]
     },
     "metadata": {},
     "output_type": "display_data"
    }
   ],
   "source": [
    "# Plot the distribution of labels\n",
    "df['quality'].value_counts().sort_index().plot(kind='bar', color='skyblue')\n",
    "plt.xlabel('Quality')\n",
    "plt.ylabel('Count')\n",
    "plt.title('Distribution of Wine Quality Labels')\n",
    "plt.xticks(rotation='horizontal')\n",
    "plt.show()"
   ]
  },
  {
   "cell_type": "markdown",
   "metadata": {},
   "source": [
    "#### 1.1.3 Dataset Preprocessing"
   ]
  },
  {
   "cell_type": "code",
   "execution_count": 43,
   "metadata": {},
   "outputs": [],
   "source": [
    "X = df.drop(columns=['quality'])  # Features\n",
    "y = df['quality']  # Labels\n",
    "\n",
    "# Handle missing values using SimpleImputer\n",
    "imputer = SimpleImputer(strategy='most_frequent')  # You can choose 'mean', 'median', or 'most_frequent'\n",
    "X = imputer.fit_transform(X)\n",
    "\n",
    "# Normalize the data using MinMaxScaler\n",
    "scaler = StandardScaler()\n",
    "X = scaler.fit_transform(X)\n",
    "\n",
    "label_encoder = LabelEncoder()\n",
    "y = label_encoder.fit_transform(y)\n",
    "\n",
    "# one hot encode y\n",
    "y = np.eye(np.unique(y).shape[0])[y]"
   ]
  },
  {
   "cell_type": "markdown",
   "metadata": {},
   "source": [
    "#### 1.1.4 Splitting the dataset"
   ]
  },
  {
   "cell_type": "code",
   "execution_count": 44,
   "metadata": {},
   "outputs": [],
   "source": [
    "# Split the data into training, validation, and test sets\n",
    "# 70% for training, 15% for validation, and 15% for testing\n",
    "X_train, X_temp, y_train, y_temp = train_test_split(X, y, test_size=0.3, random_state=42)\n",
    "X_val, X_test, y_val, y_test = train_test_split(X_temp, y_temp, test_size=0.5, random_state=42)"
   ]
  },
  {
   "cell_type": "markdown",
   "metadata": {},
   "source": [
    "### Task 1.2 Model Building"
   ]
  },
  {
   "cell_type": "markdown",
   "metadata": {},
   "source": [
    "#### 1.2.1 Multinomial Logistic regression model"
   ]
  },
  {
   "cell_type": "code",
   "execution_count": 72,
   "metadata": {},
   "outputs": [],
   "source": [
    "class MultinomialLogisticRegression:\n",
    "  def __init__(self, learning_rate=0.01, epochs=10000):\n",
    "    self.learning_rate = learning_rate\n",
    "    self.epochs = epochs\n",
    "    self.losses = []\n",
    "    self.accuracies = []\n",
    "\n",
    "  def _softmax(self, X):\n",
    "    exp_X = np.exp(X - np.max(X, axis=1, keepdims=True))\n",
    "    return exp_X / np.sum(exp_X, axis=1, keepdims=True)\n",
    "\n",
    "  def _cross_entropy_loss(self, y_true, y_pred):\n",
    "    # epsilon = 1e-15\n",
    "    # y_pred = np.clip(y_pred, epsilon, 1 - epsilon)\n",
    "    N = len(y_true)\n",
    "    loss = -np.sum(y_true * np.log(y_pred)) / N\n",
    "    return loss\n",
    "\n",
    "  def train(self, X_train, y_train, X_val, y_val):\n",
    "    num_samples, num_features = X_train.shape\n",
    "    num_classes = len(y_train[0])\n",
    "    self.weights = np.random.rand(num_classes, num_features)\n",
    "\n",
    "    for epoch in range(self.epochs):\n",
    "      scores = np.dot(X_train, self.weights.T)\n",
    "      probabilities = self._softmax(scores)\n",
    "\n",
    "      # Compute cross-entropy loss on training set\n",
    "      loss = self._cross_entropy_loss(y_train, probabilities)\n",
    "      self.losses.append(loss)\n",
    "\n",
    "      # Compute accuracy on training set\n",
    "      y_pred_train = label_encoder.inverse_transform(np.argmax(probabilities, axis=1))\n",
    "      accuracy_train = np.mean(y_pred_train == label_encoder.inverse_transform(np.argmax(y_train, axis = 1)))\n",
    "      self.accuracies.append(accuracy_train)\n",
    "\n",
    "      # Compute probabilities on validation set\n",
    "      scores_val = np.dot(X_val, self.weights.T)\n",
    "      probabilities_val = self._softmax(scores_val)\n",
    "      y_pred_val = label_encoder.inverse_transform(np.argmax(probabilities_val, axis=1))\n",
    "\n",
    "      # Compute accuracy on validation set\n",
    "      accuracy_val = np.mean(y_pred_val == label_encoder.inverse_transform(np.argmax(y_val, axis = 1)))\n",
    "\n",
    "      # Print metrics for this epoch\n",
    "      if epoch == 999:\n",
    "        print(f\"Epoch {epoch + 1}/{self.epochs} - Loss: {loss:.4f} - Accuracy (Train): {accuracy_train:.4f} - Accuracy (Validation): {accuracy_val:.4f}\")\n",
    "\n",
    "      # Update weights using gradient descent\n",
    "      error = probabilities - y_train\n",
    "      gradient = np.dot(X_train.T, error) / num_samples\n",
    "      self.weights -= self.learning_rate * gradient.T\n",
    "      \n",
    "    print(\"Training complete!\")\n",
    "    # print loss and accuracy on train data set\n",
    "    print(\"\\nLoss and Accuracy on Train Set:\")\n",
    "    y_pred_train = self.predict(X_train)\n",
    "    print(\"Loss: \", self._cross_entropy_loss(y_train, y_pred_train))\n",
    "    y_pred_train = np.argmax(y_pred_train, axis = 1)\n",
    "    print(\"Accuracy: \", np.mean(y_pred_train == np.argmax(y_train, axis = 1)))\n",
    "    print()\n",
    "\n",
    "    # Print classification report on validation set after training\n",
    "    self.print_classification_report(X_val, y_val, \"Validation\")\n",
    "    return self.losses, self.accuracies\n",
    "  \n",
    "  def print_classification_report(self, X, y, name=\"Validation\"):\n",
    "    print(f\"Classification Report on {name} Set:\")\n",
    "    y_pred = np.argmax(self.predict(X), axis = 1)\n",
    "    print(classification_report(\n",
    "      label_encoder.inverse_transform(y_pred), \n",
    "      label_encoder.inverse_transform(np.argmax(y, axis = 1)),\n",
    "      zero_division=1\n",
    "      )\n",
    "    )\n",
    "\n",
    "  def predict(self, X):\n",
    "    scores = np.dot(X, self.weights.T)\n",
    "    probabilities = self._softmax(scores)\n",
    "    return probabilities\n",
    "\n",
    "  def evaluate_accuracy(self, X, y):\n",
    "    y_pred = np.argmax(self.predict(X), axis = 1)\n",
    "    accuracy = np.mean(y_pred == np.argmax(y, axis = 1))\n",
    "    return accuracy"
   ]
  },
  {
   "cell_type": "markdown",
   "metadata": {},
   "source": [
    "#### 1.2.2 Model training"
   ]
  },
  {
   "cell_type": "code",
   "execution_count": 46,
   "metadata": {},
   "outputs": [
    {
     "name": "stdout",
     "output_type": "stream",
     "text": [
      "Epoch 1000/1000 - Loss: 1.4739 - Accuracy (Train): 0.4913 - Accuracy (Validation): 0.4912\n",
      "Training complete!\n",
      "\n",
      "Loss and Accuracy on Train Set:\n",
      "Loss:  1.4738378513658932\n",
      "Accuracy:  0.49125\n",
      "\n",
      "\n",
      "Classification Report on Validation Set:\n",
      "              precision    recall  f1-score   support\n",
      "\n",
      "           3       1.00      0.00      0.00         9\n",
      "           4       0.33      0.17      0.22         6\n",
      "           5       0.81      0.62      0.70        80\n",
      "           6       0.15      0.67      0.24        18\n",
      "           7       0.88      0.36      0.51        58\n",
      "           8       0.00      1.00      0.00         0\n",
      "\n",
      "    accuracy                           0.49       171\n",
      "   macro avg       0.53      0.47      0.28       171\n",
      "weighted avg       0.75      0.49      0.54       171\n",
      "\n",
      "----------------------------------------------------------------------------------------------------\n"
     ]
    }
   ],
   "source": [
    "mlr = MultinomialLogisticRegression(learning_rate=0.01, epochs=1000)\n",
    "mlr.train(X_train, y_train, X_val, y_val)\n",
    "print('--' * 50)"
   ]
  },
  {
   "cell_type": "markdown",
   "metadata": {},
   "source": [
    "### Task 1.3 Hyperparameter tuning and Evaluation"
   ]
  },
  {
   "cell_type": "markdown",
   "metadata": {},
   "source": [
    "#### 1.3.1 Hyperparameter tuning"
   ]
  },
  {
   "cell_type": "code",
   "execution_count": null,
   "metadata": {},
   "outputs": [],
   "source": [
    "import wandb\n",
    "\n",
    "sweep_config = {\n",
    "  'method': 'grid',\n",
    "  'metric': {\n",
    "    'name': 'composite_metric',\n",
    "    'goal': 'maximize'\n",
    "  },\n",
    "  'parameters': {\n",
    "    'learning_rates': {'values': [0.001, 0.01, 0.1, 1]},\n",
    "    'epochs': {'values': [100, 500, 1000, 2000]}\n",
    "  }\n",
    "}\n",
    "\n",
    "sweep_id = wandb.sweep(sweep=sweep_config, project=\"Multinomial-Logistic-Regression\")\n",
    "\n",
    "# Define sweep function\n",
    "def sweep_function():\n",
    "  with wandb.init(config=sweep_config):\n",
    "    learning_rate = wandb.config.learning_rates\n",
    "    epochs = wandb.config.epochs\n",
    "    mlr = MultinomialLogisticRegression(learning_rate=learning_rate, epochs=epochs)\n",
    "    train_losses, train_accuracies = mlr.train(X_train, y_train, X_val, y_val)\n",
    "    validation_loss = mlr._cross_entropy_loss(y_val, mlr.predict(X_val))\n",
    "    validation_accuracy = mlr.evaluate_accuracy(X_val, y_val)\n",
    "    \n",
    "    # Log hyperparameters and validation loss\n",
    "    wandb.log({\n",
    "      \"learning_rate\": learning_rate, \n",
    "      \"epochs\": epochs, \n",
    "      \"validation_loss\": validation_loss, \n",
    "      \"validation_accuracy\": validation_accuracy, \n",
    "      \"composite_metric\": validation_accuracy - 0.2 * validation_loss\n",
    "    })\n",
    "    epochs = np.arange(1, len(train_losses) + 1)\n",
    "    \n",
    "    for i in range(1, len(train_losses) + 1):\n",
    "      wandb.log({\n",
    "        \"epoch\": i,\n",
    "        \"train_loss\": train_losses[i-1],\n",
    "        \"train_accuracy\": train_accuracies[i-1]\n",
    "      })\n",
    "      \n",
    "wandb.agent(sweep_id, function=sweep_function)"
   ]
  },
  {
   "cell_type": "markdown",
   "metadata": {},
   "source": [
    "#### wandb logging done"
   ]
  },
  {
   "cell_type": "code",
   "execution_count": 65,
   "metadata": {},
   "outputs": [
    {
     "name": "stderr",
     "output_type": "stream",
     "text": [
      "\u001b[34m\u001b[1mwandb\u001b[0m: Sorting runs by -summary_metrics.composite_metric\n"
     ]
    },
    {
     "name": "stdout",
     "output_type": "stream",
     "text": [
      "Results for best run:\n",
      "epochs: 1000 \n",
      "learning_rate: 0.1 \n",
      "validation_loss: 1.5133413349674043 \n",
      "validation_accuracy: 0.5555555555555556 \n",
      "composite_metric: -0.20111511192814657\n"
     ]
    }
   ],
   "source": [
    "# Initialize W&B API\n",
    "api = wandb.Api()\n",
    "\n",
    "best_run = api.sweep(\"chnaveenin/Multinomial-Logistic-Regression/sweeps/\"+sweep_id).best_run()\n",
    "print('Results for best run:')\n",
    "print(\n",
    "  'epochs:', best_run.config['epochs'], '\\n'\n",
    "  'learning_rate:', best_run.config['learning_rates'], '\\n'\n",
    "  'validation_loss:', best_run.summary['validation_loss'], '\\n'\n",
    "  'validation_accuracy:', best_run.summary['validation_accuracy'], '\\n'\n",
    "  'composite_metric:', best_run.summary['composite_metric'],\n",
    ")"
   ]
  },
  {
   "cell_type": "markdown",
   "metadata": {},
   "source": [
    "#### 1.3.2 Evaluation"
   ]
  },
  {
   "cell_type": "code",
   "execution_count": 73,
   "metadata": {},
   "outputs": [
    {
     "name": "stdout",
     "output_type": "stream",
     "text": [
      "Epoch 1000/1000 - Loss: 1.3968 - Accuracy (Train): 0.5800 - Accuracy (Validation): 0.5497\n",
      "Training complete!\n",
      "\n",
      "Loss and Accuracy on Train Set:\n",
      "Loss:  1.3968425713674464\n",
      "Accuracy:  0.58\n",
      "\n",
      "Classification Report on Validation Set:\n",
      "              precision    recall  f1-score   support\n",
      "\n",
      "           3       1.00      0.00      0.00         2\n",
      "           4       0.00      0.00      0.00         5\n",
      "           5       0.74      0.61      0.67        75\n",
      "           6       0.40      0.65      0.49        49\n",
      "           7       0.67      0.42      0.52        38\n",
      "           8       0.00      0.00      0.00         2\n",
      "\n",
      "    accuracy                           0.55       171\n",
      "   macro avg       0.47      0.28      0.28       171\n",
      "weighted avg       0.60      0.55      0.55       171\n",
      "\n",
      "----------------------------------------------------------------------------------------------------\n",
      "\n",
      "Accuracy (Test): 0.5523255813953488\n",
      "Classification Report on Test Set:\n",
      "              precision    recall  f1-score   support\n",
      "\n",
      "           3       1.00      0.00      0.00         1\n",
      "           4       0.00      0.00      0.00         5\n",
      "           5       0.74      0.71      0.72        85\n",
      "           6       0.38      0.54      0.45        46\n",
      "           7       0.59      0.30      0.40        33\n",
      "           8       0.00      0.00      0.00         2\n",
      "\n",
      "    accuracy                           0.55       172\n",
      "   macro avg       0.45      0.26      0.26       172\n",
      "weighted avg       0.59      0.55      0.55       172\n",
      "\n"
     ]
    }
   ],
   "source": [
    "mlr = MultinomialLogisticRegression(learning_rate=best_run.config['learning_rates'], epochs=best_run.config['epochs'])\n",
    "mlr.train(X_train, y_train, X_val, y_val)\n",
    "print('--'*50)\n",
    "print()\n",
    "print('Accuracy (Test):', mlr.evaluate_accuracy(X_test, y_test))\n",
    "mlr.print_classification_report(X_test, y_test, \"Test\")"
   ]
  }
 ],
 "metadata": {
  "kernelspec": {
   "display_name": "Python 3",
   "language": "python",
   "name": "python3"
  },
  "language_info": {
   "codemirror_mode": {
    "name": "ipython",
    "version": 3
   },
   "file_extension": ".py",
   "mimetype": "text/x-python",
   "name": "python",
   "nbconvert_exporter": "python",
   "pygments_lexer": "ipython3",
   "version": "3.9.16"
  }
 },
 "nbformat": 4,
 "nbformat_minor": 2
}
